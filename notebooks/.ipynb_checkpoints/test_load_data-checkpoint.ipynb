{
 "cells": [
  {
   "cell_type": "code",
   "execution_count": 2,
   "id": "9b178c31-f016-40a2-aa8b-70e975f7af8c",
   "metadata": {},
   "outputs": [],
   "source": [
    "import sys\n",
    "from pathlib import Path\n",
    "\n",
    "sys.path.append(str(Path().resolve().parent))"
   ]
  },
  {
   "cell_type": "code",
   "execution_count": 3,
   "id": "f6b09dec-d590-443a-9264-5e73f7cbec74",
   "metadata": {},
   "outputs": [
    {
     "ename": "ModuleNotFoundError",
     "evalue": "No module named 'src'",
     "output_type": "error",
     "traceback": [
      "\u001b[31m---------------------------------------------------------------------------\u001b[39m",
      "\u001b[31mModuleNotFoundError\u001b[39m                       Traceback (most recent call last)",
      "\u001b[36mCell\u001b[39m\u001b[36m \u001b[39m\u001b[32mIn[3]\u001b[39m\u001b[32m, line 1\u001b[39m\n\u001b[32m----> \u001b[39m\u001b[32m1\u001b[39m \u001b[38;5;28;01mfrom\u001b[39;00m\u001b[38;5;250m \u001b[39m\u001b[34;01msrc\u001b[39;00m\u001b[34;01m.\u001b[39;00m\u001b[34;01mdata\u001b[39;00m\u001b[34;01m.\u001b[39;00m\u001b[34;01mload_data\u001b[39;00m\u001b[38;5;250m \u001b[39m\u001b[38;5;28;01mimport\u001b[39;00m load_rr_data, load_actigraph_data\n\u001b[32m      3\u001b[39m user_path = Path(\u001b[33m\"\u001b[39m\u001b[33mdata/raw/user_1\u001b[39m\u001b[33m\"\u001b[39m)\n\u001b[32m      5\u001b[39m rr_df = load_rr_data(user_path)\n",
      "\u001b[31mModuleNotFoundError\u001b[39m: No module named 'src'"
     ]
    }
   ],
   "source": [
    "from src.data.load_data import load_rr_data, load_actigraph_data\n",
    "\n",
    "user_path = Path(\"data/raw/user_1\")\n",
    "\n",
    "rr_df = load_rr_data(user_path)\n",
    "act_df = load_actigraph_data(user_path)\n",
    "\n",
    "print(rr_df.head())\n",
    "print(act_df.head())"
   ]
  },
  {
   "cell_type": "code",
   "execution_count": null,
   "id": "0768a2f9-eae6-4e43-9f1f-7542865c7828",
   "metadata": {},
   "outputs": [],
   "source": []
  }
 ],
 "metadata": {
  "kernelspec": {
   "display_name": ".venv",
   "language": "python",
   "name": "python3"
  },
  "language_info": {
   "codemirror_mode": {
    "name": "ipython",
    "version": 3
   },
   "file_extension": ".py",
   "mimetype": "text/x-python",
   "name": "python",
   "nbconvert_exporter": "python",
   "pygments_lexer": "ipython3",
   "version": "3.13.2"
  }
 },
 "nbformat": 4,
 "nbformat_minor": 5
}
