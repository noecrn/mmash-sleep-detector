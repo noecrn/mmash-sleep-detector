{
 "cells": [
  {
   "cell_type": "code",
   "execution_count": 1,
   "id": "9b178c31-f016-40a2-aa8b-70e975f7af8c",
   "metadata": {},
   "outputs": [],
   "source": [
    "import sys\n",
    "from pathlib import Path\n",
    "\n",
    "sys.path.append(str(Path().resolve().parent))"
   ]
  },
  {
   "cell_type": "code",
   "execution_count": 2,
   "id": "f6b09dec-d590-443a-9264-5e73f7cbec74",
   "metadata": {},
   "outputs": [
    {
     "name": "stdout",
     "output_type": "stream",
     "text": [
      "   Unnamed: 0  ibi_s  day      time           timestamp\n",
      "0           1  0.258    1  10:10:17 2023-01-01 10:10:17\n",
      "1           2  0.319    1  10:10:18 2023-01-01 10:10:18\n",
      "2           3  0.266    1  10:10:18 2023-01-01 10:10:18\n",
      "3           4  0.401    1  10:10:18 2023-01-01 10:10:18\n",
      "4           5  1.089    1  10:10:19 2023-01-01 10:10:19\n",
      "   Unnamed: 0  Axis1  Axis2  Axis3  Steps     HR  Inclinometer Off  \\\n",
      "0          82      0      0      0      0   68.0                 0   \n",
      "1          83     11      4      7      1   68.0                 0   \n",
      "2          84      0     21     10      0   68.0                 0   \n",
      "3          85      0      1     24      0   68.0                 0   \n",
      "4          86     34     14     63      1  154.0                 0   \n",
      "\n",
      "   Inclinometer Standing  Inclinometer Sitting  Inclinometer Lying  \\\n",
      "0                      1                     0                   0   \n",
      "1                      1                     0                   0   \n",
      "2                      0                     1                   0   \n",
      "3                      0                     1                   0   \n",
      "4                      1                     0                   0   \n",
      "\n",
      "   Vector Magnitude  day      time           timestamp  \n",
      "0              0.00    1  10:10:22 2023-01-01 10:10:22  \n",
      "1             13.64    1  10:10:23 2023-01-01 10:10:23  \n",
      "2             23.26    1  10:10:24 2023-01-01 10:10:24  \n",
      "3             24.02    1  10:10:25 2023-01-01 10:10:25  \n",
      "4             72.95    1  10:10:26 2023-01-01 10:10:26  \n"
     ]
    }
   ],
   "source": [
    "from src.data.load_data import load_rr_data, load_actigraph_data\n",
    "\n",
    "user_path = Path(\"../data/raw/user_1/\")\n",
    "\n",
    "rr_df = load_rr_data(user_path)\n",
    "act_df = load_actigraph_data(user_path)\n",
    "\n",
    "print(rr_df.head())\n",
    "print(act_df.head())"
   ]
  },
  {
   "cell_type": "code",
   "execution_count": 3,
   "id": "0fb86445-127e-46b6-9c38-147b7e8bcf22",
   "metadata": {},
   "outputs": [],
   "source": [
    "from src.data.load_data import load_rr_data\n",
    "from pathlib import Path\n",
    "\n",
    "rr_df = load_rr_data(Path(\"../data/raw/user_1\"))\n",
    "\n",
    "rr_df[\"bpm\"] = 60 / rr_df[\"ibi_s\"]\n",
    "\n",
    "# On met l'index sur les timestamps\n",
    "rr_df = rr_df.set_index(\"timestamp\")\n",
    "\n",
    "# On supprime les doublons éventuels de timestamp\n",
    "rr_df = rr_df[~rr_df.index.duplicated(keep=\"first\")]\n",
    "\n",
    "# Interpolation linéaire à 1Hz (1 valeur par seconde)\n",
    "rr_interp = rr_df[\"bpm\"].resample(\"1s\").mean().interpolate()\n",
    "\n",
    "# Reset index pour repasser timestamp en colonne\n",
    "rr_interp = rr_interp.reset_index()"
   ]
  },
  {
   "cell_type": "code",
   "execution_count": 4,
   "id": "0c00bb48",
   "metadata": {},
   "outputs": [
    {
     "name": "stdout",
     "output_type": "stream",
     "text": [
      "✅ Données fusionnées sauvegardées : ../data/processed/user_1.csv\n"
     ]
    }
   ],
   "source": [
    "from src.data.preprocess import prepare_user_data\n",
    "prepare_user_data(\"user_1\", raw_base=\"../data/raw\", out_base=\"../data/processed\")"
   ]
  },
  {
   "cell_type": "code",
   "execution_count": 5,
   "id": "0e004947",
   "metadata": {},
   "outputs": [
    {
     "name": "stdout",
     "output_type": "stream",
     "text": [
      "[  1 -29]\n",
      "   Unnamed: 0  ibi_s  day      time\n",
      "0           1  0.595    1  10:06:32\n",
      "1           2  0.341    1  10:06:32\n",
      "2           3  1.281    1  10:06:34\n",
      "3           4  0.375    1  10:06:34\n",
      "4           5  3.126    1  10:06:37\n"
     ]
    }
   ],
   "source": [
    "import pandas as pd\n",
    "\n",
    "df = pd.read_csv(\"../data/raw/user_9/RR.csv\")\n",
    "print(df[\"day\"].unique())\n",
    "print(df.head())"
   ]
  },
  {
   "cell_type": "code",
   "execution_count": 6,
   "id": "84c4d3fc",
   "metadata": {},
   "outputs": [
    {
     "data": {
      "text/html": [
       "<div>\n",
       "<style scoped>\n",
       "    .dataframe tbody tr th:only-of-type {\n",
       "        vertical-align: middle;\n",
       "    }\n",
       "\n",
       "    .dataframe tbody tr th {\n",
       "        vertical-align: top;\n",
       "    }\n",
       "\n",
       "    .dataframe thead th {\n",
       "        text-align: right;\n",
       "    }\n",
       "</style>\n",
       "<table border=\"1\" class=\"dataframe\">\n",
       "  <thead>\n",
       "    <tr style=\"text-align: right;\">\n",
       "      <th></th>\n",
       "      <th>timestamp</th>\n",
       "      <th>hr_mean</th>\n",
       "      <th>hr_std</th>\n",
       "      <th>vector magnitude_mean</th>\n",
       "      <th>vector magnitude_std</th>\n",
       "      <th>steps_sum</th>\n",
       "      <th>user_id</th>\n",
       "    </tr>\n",
       "  </thead>\n",
       "  <tbody>\n",
       "    <tr>\n",
       "      <th>0</th>\n",
       "      <td>2023-01-01 10:10:00</td>\n",
       "      <td>133.818182</td>\n",
       "      <td>52.723464</td>\n",
       "      <td>60.260000</td>\n",
       "      <td>54.633228</td>\n",
       "      <td>4</td>\n",
       "      <td>user_1</td>\n",
       "    </tr>\n",
       "    <tr>\n",
       "      <th>1</th>\n",
       "      <td>2023-01-01 10:11:00</td>\n",
       "      <td>96.357143</td>\n",
       "      <td>49.780452</td>\n",
       "      <td>95.919286</td>\n",
       "      <td>66.822908</td>\n",
       "      <td>10</td>\n",
       "      <td>user_1</td>\n",
       "    </tr>\n",
       "    <tr>\n",
       "      <th>2</th>\n",
       "      <td>2023-01-01 10:12:00</td>\n",
       "      <td>110.244444</td>\n",
       "      <td>19.195354</td>\n",
       "      <td>171.609333</td>\n",
       "      <td>139.523331</td>\n",
       "      <td>24</td>\n",
       "      <td>user_1</td>\n",
       "    </tr>\n",
       "    <tr>\n",
       "      <th>3</th>\n",
       "      <td>2023-01-01 10:13:00</td>\n",
       "      <td>89.705882</td>\n",
       "      <td>3.864164</td>\n",
       "      <td>51.317059</td>\n",
       "      <td>75.549314</td>\n",
       "      <td>9</td>\n",
       "      <td>user_1</td>\n",
       "    </tr>\n",
       "    <tr>\n",
       "      <th>4</th>\n",
       "      <td>2023-01-01 10:14:00</td>\n",
       "      <td>93.360000</td>\n",
       "      <td>3.075645</td>\n",
       "      <td>123.001400</td>\n",
       "      <td>93.779791</td>\n",
       "      <td>19</td>\n",
       "      <td>user_1</td>\n",
       "    </tr>\n",
       "  </tbody>\n",
       "</table>\n",
       "</div>"
      ],
      "text/plain": [
       "            timestamp     hr_mean     hr_std  vector magnitude_mean  \\\n",
       "0 2023-01-01 10:10:00  133.818182  52.723464              60.260000   \n",
       "1 2023-01-01 10:11:00   96.357143  49.780452              95.919286   \n",
       "2 2023-01-01 10:12:00  110.244444  19.195354             171.609333   \n",
       "3 2023-01-01 10:13:00   89.705882   3.864164              51.317059   \n",
       "4 2023-01-01 10:14:00   93.360000   3.075645             123.001400   \n",
       "\n",
       "   vector magnitude_std  steps_sum user_id  \n",
       "0             54.633228          4  user_1  \n",
       "1             66.822908         10  user_1  \n",
       "2            139.523331         24  user_1  \n",
       "3             75.549314          9  user_1  \n",
       "4             93.779791         19  user_1  "
      ]
     },
     "execution_count": 6,
     "metadata": {},
     "output_type": "execute_result"
    }
   ],
   "source": [
    "from src.data.preprocess import window_features\n",
    "import pandas as pd\n",
    "\n",
    "df = pd.read_csv(\"../data/processed/user_1.csv\")\n",
    "df[\"timestamp\"] = pd.to_datetime(df[\"timestamp\"])\n",
    "\n",
    "features = window_features(df, user_id=\"user_1\", freq=\"60s\")\n",
    "features.head()"
   ]
  },
  {
   "cell_type": "code",
   "execution_count": 7,
   "id": "c6120fc3",
   "metadata": {},
   "outputs": [
    {
     "data": {
      "text/plain": [
       "Index(['Unnamed: 0', 'In Bed Date', 'In Bed Time', 'Out Bed Date',\n",
       "       'Out Bed Time', 'Onset Date', 'Onset Time', 'Latency', 'Efficiency',\n",
       "       'Total Minutes in Bed', 'Total Sleep Time (TST)',\n",
       "       'Wake After Sleep Onset (WASO)', 'Number of Awakenings',\n",
       "       'Average Awakening Length', 'Movement Index', 'Fragmentation Index',\n",
       "       'Sleep Fragmentation Index'],\n",
       "      dtype='object')"
      ]
     },
     "execution_count": 7,
     "metadata": {},
     "output_type": "execute_result"
    }
   ],
   "source": [
    "import pandas as pd\n",
    "pd.read_csv(\"../data/raw/user_1/sleep.csv\").columns"
   ]
  },
  {
   "cell_type": "code",
   "execution_count": null,
   "id": "e1b3b213",
   "metadata": {},
   "outputs": [],
   "source": []
  }
 ],
 "metadata": {
  "kernelspec": {
   "display_name": ".venv",
   "language": "python",
   "name": "python3"
  },
  "language_info": {
   "codemirror_mode": {
    "name": "ipython",
    "version": 3
   },
   "file_extension": ".py",
   "mimetype": "text/x-python",
   "name": "python",
   "nbconvert_exporter": "python",
   "pygments_lexer": "ipython3",
   "version": "3.13.3"
  }
 },
 "nbformat": 4,
 "nbformat_minor": 5
}
